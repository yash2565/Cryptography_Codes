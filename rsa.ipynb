{
 "cells": [
  {
   "cell_type": "code",
   "execution_count": 1,
   "metadata": {},
   "outputs": [
    {
     "name": "stdout",
     "output_type": "stream",
     "text": [
      "n = 21\n",
      "e = 5\n",
      "d = 5.0\n",
      "Public key: (5, 21)\n",
      "Private key: (5.0, 21)\n",
      "Original message:11\n",
      "Encrypted message: 2.0\n",
      "Decrypted message: 11.0\n"
     ]
    }
   ],
   "source": [
    "import math\n",
    "# defineing p and q as a prime numbers\n",
    "p = 3\n",
    "q = 7\n",
    "\n",
    "# multiplying the prime nos p and q to obtain n\n",
    "n = p*q\n",
    "print(\"n =\", n)\n",
    "\n",
    "# calculating phi(n)\n",
    "phi = (p-1)*(q-1)\n",
    "\n",
    "# considering key e which is greater than 1 and smaller than phi(n)\n",
    "e = 2\n",
    "while(e<phi):\n",
    "    if (math.gcd(e, phi) == 1):\n",
    "        break\n",
    "    else:\n",
    "        e += 1\n",
    "\n",
    "print(\"e =\", e)\n",
    "# step 5\n",
    "k = 2\n",
    "d = ((k*phi)+1)/e\n",
    "print(\"d =\", d)\n",
    "print(f'Public key: {e, n}')\n",
    "print(f'Private key: {d, n}')\n",
    "\n",
    "# plain text\n",
    "msg = 11\n",
    "print(f'Original message:{msg}')\n",
    "\n",
    "# encryption\n",
    "C = pow(msg, e)\n",
    "C = math.fmod(C, n)\n",
    "print(f'Encrypted message: {C}')\n",
    "\n",
    "# decryption\n",
    "M = pow(C, d)\n",
    "M = math.fmod(M, n)\n",
    "\n",
    "print(f'Decrypted message: {M}')"
   ]
  }
 ],
 "metadata": {
  "kernelspec": {
   "display_name": "Python 3",
   "language": "python",
   "name": "python3"
  },
  "language_info": {
   "codemirror_mode": {
    "name": "ipython",
    "version": 3
   },
   "file_extension": ".py",
   "mimetype": "text/x-python",
   "name": "python",
   "nbconvert_exporter": "python",
   "pygments_lexer": "ipython3",
   "version": "3.11.8"
  }
 },
 "nbformat": 4,
 "nbformat_minor": 2
}
