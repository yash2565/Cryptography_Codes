{
 "cells": [
  {
   "cell_type": "code",
   "execution_count": 5,
   "metadata": {},
   "outputs": [
    {
     "name": "stdout",
     "output_type": "stream",
     "text": [
      "Hash of the input string:\n",
      "93163c1f1e23faf9011418aaf2e8c5e8\n"
     ]
    }
   ],
   "source": [
    "#MD 5 Algorithm code \n",
    "\n",
    "import hashlib\n",
    "inputstring = \"This is a message sent by a User.\"\n",
    "output = hashlib.md5(inputstring.encode())\n",
    "print(\"Hash of the input string:\")\n",
    "print(output.hexdigest())\n"
   ]
  },
  {
   "cell_type": "code",
   "execution_count": 8,
   "metadata": {},
   "outputs": [
    {
     "name": "stdout",
     "output_type": "stream",
     "text": [
      "Hash of the input string:\n",
      "042b0bc26f4b12d328f115488bd69b960d18d02c\n"
     ]
    }
   ],
   "source": [
    "import hashlib\n",
    "input_string = \"This is a message sent by a User .\"\n",
    "sha256_hash = hashlib.sha1()\n",
    "sha256_hash.update(input_string.encode())\n",
    "hashed_output = sha256_hash.hexdigest()\n",
    "print(\"Hash of the input string:\")\n",
    "print(hashed_output)\n"
   ]
  }
 ],
 "metadata": {
  "kernelspec": {
   "display_name": "base",
   "language": "python",
   "name": "python3"
  },
  "language_info": {
   "codemirror_mode": {
    "name": "ipython",
    "version": 3
   },
   "file_extension": ".py",
   "mimetype": "text/x-python",
   "name": "python",
   "nbconvert_exporter": "python",
   "pygments_lexer": "ipython3",
   "version": "3.11.4"
  }
 },
 "nbformat": 4,
 "nbformat_minor": 2
}
