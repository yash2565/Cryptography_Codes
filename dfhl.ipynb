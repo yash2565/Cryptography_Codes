{
 "cells": [
  {
   "cell_type": "code",
   "execution_count": 2,
   "metadata": {},
   "outputs": [],
   "source": [
    "def generate_key(p, g, private_key):\n",
    "    return (g ** private_key) % p\n",
    "\n",
    "def generate_shared_secret(p, public_key, private_key):\n",
    "    return (public_key ** private_key) % p\n",
    "\n",
    "def main():\n",
    "    # Public parameters\n",
    "    p = 23  # A prime number\n",
    "    g = 5   # A primitive root modulo p\n",
    "\n",
    "    # Alice's private key\n",
    "    private_key_alice = 6\n",
    "    # Bob's private key\n",
    "    private_key_bob = 15\n",
    "\n",
    "    # Generate Alice's public key\n",
    "    public_key_alice = generate_key(p, g, private_key_alice)\n",
    "    # Generate Bob's public key\n",
    "    public_key_bob = generate_key(p, g, private_key_bob)\n",
    "\n",
    "    # Exchange public keys\n",
    "    shared_secret_alice = generate_shared_secret(p, public_key_bob, private_key_alice)\n",
    "    shared_secret_bob = generate_shared_secret(p, public_key_alice, private_key_bob)\n",
    "\n",
    "    # The shared secrets should be the same\n",
    "    if shared_secret_alice == shared_secret_bob:\n",
    "        print(\"Shared secret:\", shared_secret_alice)\n",
    "    else:\n",
    "        print(\"Error: Shared secrets do not match\")\n",
    "\n",
    "# if _name_ == \"_main_\":\n",
    "#     main()"
   ]
  }
 ],
 "metadata": {
  "kernelspec": {
   "display_name": "base",
   "language": "python",
   "name": "python3"
  },
  "language_info": {
   "codemirror_mode": {
    "name": "ipython",
    "version": 3
   },
   "file_extension": ".py",
   "mimetype": "text/x-python",
   "name": "python",
   "nbconvert_exporter": "python",
   "pygments_lexer": "ipython3",
   "version": "3.11.4"
  }
 },
 "nbformat": 4,
 "nbformat_minor": 2
}
